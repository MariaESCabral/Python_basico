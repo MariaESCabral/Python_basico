{
  "nbformat": 4,
  "nbformat_minor": 0,
  "metadata": {
    "colab": {
      "provenance": [],
      "authorship_tag": "ABX9TyPe22ZKYlozBP9vrlpwIKP3",
      "include_colab_link": true
    },
    "kernelspec": {
      "name": "python3",
      "display_name": "Python 3"
    },
    "language_info": {
      "name": "python"
    }
  },
  "cells": [
    {
      "cell_type": "markdown",
      "metadata": {
        "id": "view-in-github",
        "colab_type": "text"
      },
      "source": [
        "<a href=\"https://colab.research.google.com/github/MariaESCabral/Python_basico/blob/main/Quiz_Phyton_CinemaBrasileiro.ipynb\" target=\"_parent\"><img src=\"https://colab.research.google.com/assets/colab-badge.svg\" alt=\"Open In Colab\"/></a>"
      ]
    },
    {
      "cell_type": "code",
      "execution_count": 4,
      "metadata": {
        "colab": {
          "base_uri": "https://localhost:8080/"
        },
        "id": "Crzh0wsZGoE0",
        "outputId": "4e820ea9-9514-4ac1-9dfc-36dd8ec0a56b"
      },
      "outputs": [
        {
          "output_type": "stream",
          "name": "stdout",
          "text": [
            "\n",
            "Pergunta 1: Qual filme brasileiro ganhou o oscar de melhor filme estrangeiro em 1999?\n",
            "a) Cidade de Deus\n",
            "b) O Que É Isso, Companheiro?\n",
            "c) Central do Brasil\n",
            "a\n",
            "Resposta incorreta.\n",
            "\n",
            "Pergunta 2: Qual ator brasileiro interpretou o personagem zé Pequeno em 'Cidade de Deus'?\n",
            "a) Wagner Moura\n",
            "b) Lázaro Ramos\n",
            "c) Seu Jorge\n",
            "c\n",
            "Resposta incorreta.\n",
            "\n",
            "Pergunta 3: Qual diretor brasileiro é conhecido por filmes como 'Tropa de Elite' e 'O Padre e a Moça'?\n",
            "a) Glauber Rocha\n",
            "b) José Padilha\n",
            "c) Hector Babenco\n",
            "c\n",
            "Resposta incorreta.\n",
            "\n",
            "Pergunta 4: Qual filme brasileiro foi indicado ao Oscar de Melhor Animação em 2020?\n",
            "a) O Menino e o Mundo\n",
            "b) Tito e os Pássaros\n",
            "c) Uma História de Amor e Fúria\n",
            "a\n",
            "Resposta incorreta.\n",
            "\n",
            "Pergunta 5: Qual atriz brasileira ganhou o oscar de Mmlhor atriz por sua atuação em 'Central do Brasil'?\n",
            "a) Fernanda Torres\n",
            "b) Marília Pêra\n",
            "c) Fernanda Montenegro\n",
            "c\n",
            "Resposta correta!\n"
          ]
        }
      ],
      "source": [
        "pontuacao = 0\n",
        "\n",
        "print(\"\\nPergunta 1: Qual filme brasileiro ganhou o oscar de melhor filme estrangeiro em 1999?\")\n",
        "print(\"a) Cidade de Deus\")\n",
        "print(\"b) O Que É Isso, Companheiro?\")\n",
        "print(\"c) Central do Brasil\")\n",
        "resposta1 = input(\"\").lower()\n",
        "\n",
        "if resposta1 == \"b\":\n",
        "    print(\"Resposta correta!\")\n",
        "    pontuacao += 1\n",
        "else:\n",
        "    print(\"Resposta incorreta.\")\n",
        "\n",
        "print(\"\\nPergunta 2: Qual ator brasileiro interpretou o personagem zé Pequeno em 'Cidade de Deus'?\")\n",
        "print(\"a) Wagner Moura\")\n",
        "print(\"b) Lázaro Ramos\")\n",
        "print(\"c) Seu Jorge\")\n",
        "resposta2 = input(\"\").lower()\n",
        "\n",
        "if resposta2 == \"a\":\n",
        "    print(\"Resposta correta!\")\n",
        "    pontuacao += 1\n",
        "else:\n",
        "    print(\"Resposta incorreta.\")\n",
        "\n",
        "print(\"\\nPergunta 3: Qual diretor brasileiro é conhecido por filmes como 'Tropa de Elite' e 'O Padre e a Moça'?\")\n",
        "print(\"a) Glauber Rocha\")\n",
        "print(\"b) José Padilha\")\n",
        "print(\"c) Hector Babenco\")\n",
        "resposta3 = input(\"\").lower()\n",
        "\n",
        "if resposta3 == \"b\":\n",
        "    print(\"Resposta correta!\")\n",
        "    pontuacao += 1\n",
        "else:\n",
        "    print(\"Resposta incorreta.\")\n",
        "\n",
        "\n",
        "print(\"\\nPergunta 4: Qual filme brasileiro foi indicado ao Oscar de Melhor Animação em 2020?\")\n",
        "print(\"a) O Menino e o Mundo\")\n",
        "print(\"b) Tito e os Pássaros\")\n",
        "print(\"c) Uma História de Amor e Fúria\")\n",
        "resposta4 = input(\"\").lower()\n",
        "\n",
        "if resposta4 == \"b\":\n",
        "    print(\"Resposta correta!\")\n",
        "    pontuacao += 1\n",
        "else:\n",
        "    print(\"Resposta incorreta.\")\n",
        "\n",
        "print(\"\\nPergunta 5: Qual atriz brasileira ganhou o oscar de Mmlhor atriz por sua atuação em 'Central do Brasil'?\")\n",
        "print(\"a) Fernanda Torres\")\n",
        "print(\"b) Marília Pêra\")\n",
        "print(\"c) Fernanda Montenegro\")\n",
        "resposta5 = input(\"\").lower()\n",
        "\n",
        "if resposta5 == \"c\":\n",
        "    print(\"Resposta correta!\")\n",
        "    pontuacao += 1\n"
      ]
    }
  ]
}